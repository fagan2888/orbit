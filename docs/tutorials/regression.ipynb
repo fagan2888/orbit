{
 "cells": [
  {
   "cell_type": "markdown",
   "metadata": {},
   "source": [
    "# Regression with DLT"
   ]
  },
  {
   "cell_type": "markdown",
   "metadata": {},
   "source": [
    "In this notebook, we want to demonstartate how to use different arguments in **DLT** to train a model with various regression settings. We continue to use *iclaims* data for the demo purpose:\n",
    "\n",
    "1. regular regression\n",
    "2. regression with specific signs and priors for regression coefficients\n",
    "\n",
    "Finally, we will also use a simulated dataset to illustrate different types of regression penalties:\n",
    "\n",
    "1. `fixed-ridge`\n",
    "2. `auto-ridge`\n",
    "3. `lasso`\n",
    "\n",
    "Generally speaking, regression coefficients are more robust under full Bayesian sampling and estimation.  Hence, we will use `DTLFull` in the session."
   ]
  },
  {
   "cell_type": "code",
   "execution_count": 1,
   "metadata": {
    "ExecuteTime": {
     "end_time": "2021-02-18T21:22:35.235114Z",
     "start_time": "2021-02-18T21:22:32.888705Z"
    }
   },
   "outputs": [],
   "source": [
    "%matplotlib inline\n",
    "\n",
    "import matplotlib.pyplot as plt\n",
    "\n",
    "import orbit\n",
    "from orbit.utils.dataset import load_iclaims\n",
    "from orbit.models.dlt import DLTFull, DLTMAP\n",
    "from orbit.diagnostics.plot import plot_predicted_data\n",
    "from orbit.constants.palette import QualitativePalette\n",
    "\n",
    "from pylab import rcParams\n",
    "\n",
    "rcParams['figure.figsize'] = 14, 8\n",
    "plt.style.use('fivethirtyeight')"
   ]
  },
  {
   "cell_type": "code",
   "execution_count": 2,
   "metadata": {
    "ExecuteTime": {
     "end_time": "2021-02-18T21:22:35.240527Z",
     "start_time": "2021-02-18T21:22:35.237297Z"
    }
   },
   "outputs": [],
   "source": [
    "assert orbit.__version__ == '1.0.12'"
   ]
  },
  {
   "cell_type": "markdown",
   "metadata": {
    "toc-hr-collapsed": false
   },
   "source": [
    "## US Weekly Initial Claims"
   ]
  },
  {
   "cell_type": "markdown",
   "metadata": {},
   "source": [
    "Recall the *iclaims* dataset by previous section. In order to use this data to nowcast the US unemployment claims during COVID-19 period, we extended the dataset to Jan 2021 and added the [S&P 500 (^GSPC)](https://finance.yahoo.com/quote/%5EGSPC/history?period1=1264032000&period2=1611187200&interval=1wk&filter=history&frequency=1wk&includeAdjustedClose=true) and [VIX](https://finance.yahoo.com/quote/%5EVIX/history?p=%5EVIX) Index historical data for the same period.\n",
    "\n",
    "The data is standardized and log-transformed for the model fitting purpose."
   ]
  },
  {
   "cell_type": "code",
   "execution_count": 3,
   "metadata": {
    "ExecuteTime": {
     "end_time": "2021-02-18T21:22:51.215877Z",
     "start_time": "2021-02-18T21:22:50.806849Z"
    }
   },
   "outputs": [
    {
     "data": {
      "text/plain": [
       "week              datetime64[ns]\n",
       "claims                   float64\n",
       "trend.unemploy           float64\n",
       "trend.filling            float64\n",
       "trend.job                float64\n",
       "sp500                    float64\n",
       "vix                      float64\n",
       "dtype: object"
      ]
     },
     "execution_count": 3,
     "metadata": {},
     "output_type": "execute_result"
    }
   ],
   "source": [
    "# load data\n",
    "df = load_iclaims(end_date='2021-01-03')\n",
    "date_col = 'week'\n",
    "response_col = 'claims'\n",
    "df.dtypes"
   ]
  },
  {
   "cell_type": "code",
   "execution_count": 4,
   "metadata": {
    "ExecuteTime": {
     "end_time": "2021-02-18T21:22:51.367773Z",
     "start_time": "2021-02-18T21:22:51.355682Z"
    }
   },
   "outputs": [
    {
     "data": {
      "text/html": [
       "<div>\n",
       "<style scoped>\n",
       "    .dataframe tbody tr th:only-of-type {\n",
       "        vertical-align: middle;\n",
       "    }\n",
       "\n",
       "    .dataframe tbody tr th {\n",
       "        vertical-align: top;\n",
       "    }\n",
       "\n",
       "    .dataframe thead th {\n",
       "        text-align: right;\n",
       "    }\n",
       "</style>\n",
       "<table border=\"1\" class=\"dataframe\">\n",
       "  <thead>\n",
       "    <tr style=\"text-align: right;\">\n",
       "      <th></th>\n",
       "      <th>week</th>\n",
       "      <th>claims</th>\n",
       "      <th>trend.unemploy</th>\n",
       "      <th>trend.filling</th>\n",
       "      <th>trend.job</th>\n",
       "      <th>sp500</th>\n",
       "      <th>vix</th>\n",
       "    </tr>\n",
       "  </thead>\n",
       "  <tbody>\n",
       "    <tr>\n",
       "      <th>0</th>\n",
       "      <td>2010-01-03</td>\n",
       "      <td>13.386595</td>\n",
       "      <td>0.016351</td>\n",
       "      <td>-0.345855</td>\n",
       "      <td>0.130569</td>\n",
       "      <td>-0.543044</td>\n",
       "      <td>0.082087</td>\n",
       "    </tr>\n",
       "    <tr>\n",
       "      <th>1</th>\n",
       "      <td>2010-01-10</td>\n",
       "      <td>13.624218</td>\n",
       "      <td>0.016351</td>\n",
       "      <td>-0.222241</td>\n",
       "      <td>0.181862</td>\n",
       "      <td>-0.550891</td>\n",
       "      <td>0.069878</td>\n",
       "    </tr>\n",
       "    <tr>\n",
       "      <th>2</th>\n",
       "      <td>2010-01-17</td>\n",
       "      <td>13.398741</td>\n",
       "      <td>0.032611</td>\n",
       "      <td>-0.319879</td>\n",
       "      <td>0.130569</td>\n",
       "      <td>-0.590640</td>\n",
       "      <td>0.491772</td>\n",
       "    </tr>\n",
       "    <tr>\n",
       "      <th>3</th>\n",
       "      <td>2010-01-24</td>\n",
       "      <td>13.137549</td>\n",
       "      <td>-0.000179</td>\n",
       "      <td>-0.222241</td>\n",
       "      <td>0.119987</td>\n",
       "      <td>-0.607162</td>\n",
       "      <td>0.388078</td>\n",
       "    </tr>\n",
       "    <tr>\n",
       "      <th>4</th>\n",
       "      <td>2010-01-31</td>\n",
       "      <td>13.196760</td>\n",
       "      <td>-0.069172</td>\n",
       "      <td>-0.269869</td>\n",
       "      <td>0.087552</td>\n",
       "      <td>-0.614339</td>\n",
       "      <td>0.446838</td>\n",
       "    </tr>\n",
       "  </tbody>\n",
       "</table>\n",
       "</div>"
      ],
      "text/plain": [
       "        week     claims  trend.unemploy  trend.filling  trend.job     sp500  \\\n",
       "0 2010-01-03  13.386595        0.016351      -0.345855   0.130569 -0.543044   \n",
       "1 2010-01-10  13.624218        0.016351      -0.222241   0.181862 -0.550891   \n",
       "2 2010-01-17  13.398741        0.032611      -0.319879   0.130569 -0.590640   \n",
       "3 2010-01-24  13.137549       -0.000179      -0.222241   0.119987 -0.607162   \n",
       "4 2010-01-31  13.196760       -0.069172      -0.269869   0.087552 -0.614339   \n",
       "\n",
       "        vix  \n",
       "0  0.082087  \n",
       "1  0.069878  \n",
       "2  0.491772  \n",
       "3  0.388078  \n",
       "4  0.446838  "
      ]
     },
     "execution_count": 4,
     "metadata": {},
     "output_type": "execute_result"
    }
   ],
   "source": [
    "df.head(5)"
   ]
  },
  {
   "cell_type": "markdown",
   "metadata": {},
   "source": [
    "We can see form the plot below, there are seasonlity, trend, and as well as a huge changpoint due the impact of COVID-19."
   ]
  },
  {
   "cell_type": "code",
   "execution_count": 5,
   "metadata": {
    "ExecuteTime": {
     "end_time": "2021-02-18T21:23:23.640219Z",
     "start_time": "2021-02-18T21:23:23.154597Z"
    }
   },
   "outputs": [
    {
     "data": {
      "text/plain": [
       "Text(0.5, 1.0, 'S&P500')"
      ]
     },
     "execution_count": 5,
     "metadata": {},
     "output_type": "execute_result"
    },
    {
     "data": {
      "image/png": "[encoded data removed]",
      "text/plain": [
       "<Figure size 1440x576 with 4 Axes>"
      ]
     },
     "metadata": {},
     "output_type": "display_data"
    }
   ],
   "source": [
    "fig, axs = plt.subplots(2, 2,figsize=(20,8))\n",
    "axs[0, 0].plot(df['week'], df['claims'])\n",
    "axs[0, 0].set_title('Unemployment Claims')\n",
    "axs[0, 1].plot(df['week'], df['trend.unemploy'], 'tab:orange')\n",
    "axs[0, 1].set_title('Google trend - unemploy')\n",
    "axs[1, 0].plot(df['week'], df['vix'], 'tab:green')\n",
    "axs[1, 0].set_title('VIX')\n",
    "axs[1, 1].plot(df['week'], df['sp500'], 'tab:red')\n",
    "axs[1, 1].set_title('S&P500')"
   ]
  },
  {
   "cell_type": "code",
   "execution_count": 6,
   "metadata": {
    "ExecuteTime": {
     "end_time": "2021-02-18T21:23:24.983062Z",
     "start_time": "2021-02-18T21:23:24.978620Z"
    }
   },
   "outputs": [],
   "source": [
    "# using relatively updated data\n",
    "df = df[df['week'] > '2018-01-01'].reset_index(drop=True)\n",
    "test_size = 26\n",
    "train_df = df[:-test_size]\n",
    "test_df = df[-test_size:]"
   ]
  },
  {
   "cell_type": "markdown",
   "metadata": {},
   "source": [
    "### Naive Model"
   ]
  },
  {
   "cell_type": "markdown",
   "metadata": {},
   "source": [
    "Here we will use DLT models to compare the model performance with vs. without regression."
   ]
  },
  {
   "cell_type": "code",
   "execution_count": 7,
   "metadata": {
    "ExecuteTime": {
     "end_time": "2021-01-26T01:22:28.084747Z",
     "start_time": "2021-01-26T01:22:28.081267Z"
    }
   },
   "outputs": [
    {
     "name": "stderr",
     "output_type": "stream",
     "text": [
      "WARNING:pystan:n_eff / iter below 0.001 indicates that the effective sample size has likely been overestimated\n",
      "WARNING:pystan:Rhat above 1.1 or below 0.9 indicates that the chains very likely have not mixed\n"
     ]
    },
    {
     "name": "stdout",
     "output_type": "stream",
     "text": [
      "CPU times: user 177 ms, sys: 83.3 ms, total: 261 ms\n",
      "Wall time: 19.9 s\n"
     ]
    }
   ],
   "source": [
    "%%time\n",
    "dlt = DLTFull(\n",
    "    response_col=response_col,\n",
    "    date_col=date_col,\n",
    "    seasonality=52,\n",
    "    seed=8888,\n",
    "    num_warmup=4000,\n",
    ")\n",
    "dlt.fit(df=train_df)\n",
    "predicted_df = dlt.predict(df=test_df)"
   ]
  },
  {
   "cell_type": "markdown",
   "metadata": {
    "toc-hr-collapsed": false
   },
   "source": [
    "### DLT With Regression"
   ]
  },
  {
   "cell_type": "markdown",
   "metadata": {},
   "source": [
    "The regressor columns can be supplied via argument `regressor_col`.  Recall the regression formula in **DLT**:\n",
    "\n",
    "$$\n",
    "\\hat{y}_t =\\mu_t + s_t + r_t \\\\\n",
    "r_t = \\sum_{j}\\beta_j x_{jt} \\\\\n",
    "\\beta_j ~\\sim \\mathcal{N}(\\mu_j, \\sigma_j^2)\n",
    "$$\n",
    "\n",
    "Let's use the default where $\\mu_j = 0$ and $\\sigma_j = 1$.  In addition, we can set a *sign* constraint for each coefficient $\\beta_j$.  This is can be done by supplying the `regressor_sign` as a list where elements are in one of followings:\n",
    "\n",
    "* '=': $\\beta_j ~\\sim \\mathcal{N}(0, \\sigma_j^2)$  i.e. $\\beta_j \\in (-\\inf, \\inf)$\n",
    "* '+': $\\beta_j ~\\sim \\mathcal{N}^+(0, \\sigma_j^2)$  i.e. $\\beta_j \\in [0, \\inf)$\n",
    "* '-': $\\beta_j ~\\sim \\mathcal{N}^-(0, \\sigma_j^2)$  i.e. $\\beta_j \\in (-\\inf, 0]$\n",
    "\n",
    "Based on some intuition, it's reasonable to assume search terms such as \"unemployment\", \"filling\" and **VIX** index to be positively correlated and stock index such as **SP500** to be negatively correlated to the outcome.  Then we will leave whatever unsured as a regular regressor."
   ]
  },
  {
   "cell_type": "code",
   "execution_count": 8,
   "metadata": {
    "ExecuteTime": {
     "end_time": "2021-01-26T01:22:55.622286Z",
     "start_time": "2021-01-26T01:22:42.219761Z"
    }
   },
   "outputs": [
    {
     "name": "stderr",
     "output_type": "stream",
     "text": [
      "WARNING:pystan:n_eff / iter below 0.001 indicates that the effective sample size has likely been overestimated\n",
      "WARNING:pystan:Rhat above 1.1 or below 0.9 indicates that the chains very likely have not mixed\n"
     ]
    },
    {
     "name": "stdout",
     "output_type": "stream",
     "text": [
      "CPU times: user 190 ms, sys: 111 ms, total: 301 ms\n",
      "Wall time: 17.8 s\n"
     ]
    }
   ],
   "source": [
    "%%time\n",
    "dlt_reg = DLTFull(\n",
    "    response_col=response_col, \n",
    "    date_col=date_col,\n",
    "    regressor_col=['trend.unemploy', 'trend.filling', 'trend.job', 'sp500', 'vix'],\n",
    "    regressor_sign=[\"+\", '+', '=', '-', '+'], \n",
    "    seasonality=52,\n",
    "    seed=8888,\n",
    "    num_warmup=4000,\n",
    ")\n",
    "dlt_reg.fit(df=train_df)\n",
    "predicted_df_reg = dlt_reg.predict(test_df)"
   ]
  },
  {
   "cell_type": "markdown",
   "metadata": {},
   "source": [
    "The estimated regressor coefficients can be retrieved via `.get_regression_coefs()`."
   ]
  },
  {
   "cell_type": "code",
   "execution_count": 9,
   "metadata": {
    "ExecuteTime": {
     "end_time": "2021-01-26T01:22:55.638477Z",
     "start_time": "2021-01-26T01:22:55.624439Z"
    }
   },
   "outputs": [
    {
     "data": {
      "text/html": [
       "<div>\n",
       "<style scoped>\n",
       "    .dataframe tbody tr th:only-of-type {\n",
       "        vertical-align: middle;\n",
       "    }\n",
       "\n",
       "    .dataframe tbody tr th {\n",
       "        vertical-align: top;\n",
       "    }\n",
       "\n",
       "    .dataframe thead th {\n",
       "        text-align: right;\n",
       "    }\n",
       "</style>\n",
       "<table border=\"1\" class=\"dataframe\">\n",
       "  <thead>\n",
       "    <tr style=\"text-align: right;\">\n",
       "      <th></th>\n",
       "      <th>regressor</th>\n",
       "      <th>regressor_sign</th>\n",
       "      <th>coefficient</th>\n",
       "    </tr>\n",
       "  </thead>\n",
       "  <tbody>\n",
       "    <tr>\n",
       "      <th>0</th>\n",
       "      <td>trend.unemploy</td>\n",
       "      <td>Positive</td>\n",
       "      <td>0.868930</td>\n",
       "    </tr>\n",
       "    <tr>\n",
       "      <th>1</th>\n",
       "      <td>trend.filling</td>\n",
       "      <td>Positive</td>\n",
       "      <td>0.408123</td>\n",
       "    </tr>\n",
       "    <tr>\n",
       "      <th>2</th>\n",
       "      <td>vix</td>\n",
       "      <td>Positive</td>\n",
       "      <td>0.067099</td>\n",
       "    </tr>\n",
       "    <tr>\n",
       "      <th>3</th>\n",
       "      <td>sp500</td>\n",
       "      <td>Negative</td>\n",
       "      <td>-0.457451</td>\n",
       "    </tr>\n",
       "    <tr>\n",
       "      <th>4</th>\n",
       "      <td>trend.job</td>\n",
       "      <td>Regular</td>\n",
       "      <td>0.007117</td>\n",
       "    </tr>\n",
       "  </tbody>\n",
       "</table>\n",
       "</div>"
      ],
      "text/plain": [
       "        regressor regressor_sign  coefficient\n",
       "0  trend.unemploy       Positive     0.868930\n",
       "1   trend.filling       Positive     0.408123\n",
       "2             vix       Positive     0.067099\n",
       "3           sp500       Negative    -0.457451\n",
       "4       trend.job        Regular     0.007117"
      ]
     },
     "execution_count": 9,
     "metadata": {},
     "output_type": "execute_result"
    }
   ],
   "source": [
    "dlt_reg.get_regression_coefs()"
   ]
  },
  {
   "cell_type": "markdown",
   "metadata": {},
   "source": [
    "### DLT with Regression and Informative Priors"
   ]
  },
  {
   "cell_type": "markdown",
   "metadata": {},
   "source": [
    "Assuming users obtain further knowledge on some of the regressors, they could use informative priors ($\\mu$, $\\sigma$) by replacing the defaults. This can be done via the arguments `regressor_beta_prior` and `regressor_sigma_prior`. These two lists should be of the same lenght as `regressor_col`."
   ]
  },
  {
   "cell_type": "code",
   "execution_count": 10,
   "metadata": {
    "ExecuteTime": {
     "end_time": "2021-01-26T01:23:09.470695Z",
     "start_time": "2021-01-26T01:22:56.032431Z"
    }
   },
   "outputs": [
    {
     "name": "stderr",
     "output_type": "stream",
     "text": [
      "WARNING:pystan:n_eff / iter below 0.001 indicates that the effective sample size has likely been overestimated\n",
      "WARNING:pystan:Rhat above 1.1 or below 0.9 indicates that the chains very likely have not mixed\n"
     ]
    }
   ],
   "source": [
    "dlt_reg_adjust = DLTFull(\n",
    "    response_col=response_col,\n",
    "    date_col=date_col,\n",
    "    regressor_col=['trend.unemploy', 'trend.filling', 'trend.job', 'sp500', 'vix'],\n",
    "    regressor_sign=[\"+\", '+', '=', '-', '+'], \n",
    "    regressor_beta_prior=[0.5, 0.25, 0.07, -0.3, 0.03],\n",
    "    regressor_sigma_prior=[0.1] * 5,\n",
    "    seasonality=52,\n",
    "    seed=8888,\n",
    "    num_warmup=4000,\n",
    ")\n",
    "dlt_reg_adjust.fit(df=train_df)\n",
    "predicted_df_reg_adjust = dlt_reg_adjust.predict(test_df)"
   ]
  },
  {
   "cell_type": "code",
   "execution_count": 11,
   "metadata": {
    "ExecuteTime": {
     "end_time": "2021-01-26T01:23:09.486336Z",
     "start_time": "2021-01-26T01:23:09.473011Z"
    }
   },
   "outputs": [
    {
     "data": {
      "text/html": [
       "<div>\n",
       "<style scoped>\n",
       "    .dataframe tbody tr th:only-of-type {\n",
       "        vertical-align: middle;\n",
       "    }\n",
       "\n",
       "    .dataframe tbody tr th {\n",
       "        vertical-align: top;\n",
       "    }\n",
       "\n",
       "    .dataframe thead th {\n",
       "        text-align: right;\n",
       "    }\n",
       "</style>\n",
       "<table border=\"1\" class=\"dataframe\">\n",
       "  <thead>\n",
       "    <tr style=\"text-align: right;\">\n",
       "      <th></th>\n",
       "      <th>regressor</th>\n",
       "      <th>regressor_sign</th>\n",
       "      <th>coefficient</th>\n",
       "    </tr>\n",
       "  </thead>\n",
       "  <tbody>\n",
       "    <tr>\n",
       "      <th>0</th>\n",
       "      <td>trend.unemploy</td>\n",
       "      <td>Positive</td>\n",
       "      <td>0.286465</td>\n",
       "    </tr>\n",
       "    <tr>\n",
       "      <th>1</th>\n",
       "      <td>trend.filling</td>\n",
       "      <td>Positive</td>\n",
       "      <td>0.256349</td>\n",
       "    </tr>\n",
       "    <tr>\n",
       "      <th>2</th>\n",
       "      <td>vix</td>\n",
       "      <td>Positive</td>\n",
       "      <td>0.049923</td>\n",
       "    </tr>\n",
       "    <tr>\n",
       "      <th>3</th>\n",
       "      <td>sp500</td>\n",
       "      <td>Negative</td>\n",
       "      <td>-0.300763</td>\n",
       "    </tr>\n",
       "    <tr>\n",
       "      <th>4</th>\n",
       "      <td>trend.job</td>\n",
       "      <td>Regular</td>\n",
       "      <td>0.065622</td>\n",
       "    </tr>\n",
       "  </tbody>\n",
       "</table>\n",
       "</div>"
      ],
      "text/plain": [
       "        regressor regressor_sign  coefficient\n",
       "0  trend.unemploy       Positive     0.286465\n",
       "1   trend.filling       Positive     0.256349\n",
       "2             vix       Positive     0.049923\n",
       "3           sp500       Negative    -0.300763\n",
       "4       trend.job        Regular     0.065622"
      ]
     },
     "execution_count": 11,
     "metadata": {},
     "output_type": "execute_result"
    }
   ],
   "source": [
    "dlt_reg_adjust.get_regression_coefs()"
   ]
  },
  {
   "cell_type": "markdown",
   "metadata": {},
   "source": [
    "Let's compare the holdout performance by using the built-in function `smape()` ."
   ]
  },
  {
   "cell_type": "code",
   "execution_count": 12,
   "metadata": {},
   "outputs": [
    {
     "name": "stdout",
     "output_type": "stream",
     "text": [
      "Naive Model: 0.205\n",
      "Regression Model: 0.138\n",
      "Refined Regression Model: 0.120\n"
     ]
    }
   ],
   "source": [
    "import numpy as np\n",
    "from orbit.diagnostics.metrics import smape\n",
    "\n",
    "# to reverse the log-transformation\n",
    "def smape_adjusted(x, y):\n",
    "    x = np.exp(x)\n",
    "    y = np.exp(y)\n",
    "    return smape(x, y)\n",
    "\n",
    "naive_smape = smape_adjusted(predicted_df['prediction'].values, test_df['claims'].values)\n",
    "reg_smape = smape_adjusted(predicted_df_reg['prediction'].values, test_df['claims'].values)\n",
    "reg_adjust_smape = smape_adjusted(predicted_df_reg_adjust['prediction'].values, test_df['claims'].values)\n",
    "\n",
    "print('Naive Model: {:.3f}\\nRegression Model: {:.3f}\\nRefined Regression Model: {:.3f}'.format(\n",
    "    naive_smape, reg_smape, reg_adjust_smape\n",
    "))"
   ]
  },
  {
   "cell_type": "markdown",
   "metadata": {},
   "source": [
    "## Regression on Simulated Dataset\n",
    "\n",
    "Let's use a simulated dateset to demonstrate sparse regression."
   ]
  },
  {
   "cell_type": "code",
   "execution_count": 13,
   "metadata": {},
   "outputs": [],
   "source": [
    "import pandas as pd\n",
    "\n",
    "from orbit.constants.palette import QualitativePalette\n",
    "from orbit.utils.simulation import make_trend, make_regression\n",
    "from orbit.diagnostics.metrics import mse"
   ]
  },
  {
   "cell_type": "markdown",
   "metadata": {},
   "source": [
    "We have developed a few utilites to generate simulated data. For details, please refer to our API doc.  In brief, we are generating observations $y$ such that\n",
    "\n",
    "$$y_t = l_t + r_t $$\n",
    "\n",
    "where\n",
    "\n",
    "$$r_t = \\sum_p^{P} \\beta_p  x_{p,t}$$"
   ]
  },
  {
   "cell_type": "markdown",
   "metadata": {},
   "source": [
    "### Regular Regression\n",
    "\n",
    "Let's start with a small number of regressors with $P=10$ and $T=100$."
   ]
  },
  {
   "cell_type": "code",
   "execution_count": 14,
   "metadata": {},
   "outputs": [
    {
     "name": "stdout",
     "output_type": "stream",
     "text": [
      "(50,) (50, 10)\n"
     ]
    }
   ],
   "source": [
    "NUM_OF_REGRESSORS = 10\n",
    "SERIES_LEN = 50\n",
    "SEED = 20210101\n",
    "# sample some coefficients\n",
    "COEFS = np.random.default_rng(SEED).uniform(-1, 1, NUM_OF_REGRESSORS)\n",
    "trend = make_trend(SERIES_LEN, rw_loc=0.01, rw_scale=0.1)\n",
    "x, regression, coefs = make_regression(series_len=SERIES_LEN, coefs=COEFS)\n",
    "print(regression.shape, x.shape)"
   ]
  },
  {
   "cell_type": "code",
   "execution_count": 15,
   "metadata": {},
   "outputs": [],
   "source": [
    "# combine trend and the regression\n",
    "y = trend + regression"
   ]
  },
  {
   "cell_type": "code",
   "execution_count": 16,
   "metadata": {},
   "outputs": [
    {
     "data": {
      "text/plain": [
       "(50, 12)"
      ]
     },
     "execution_count": 16,
     "metadata": {},
     "output_type": "execute_result"
    }
   ],
   "source": [
    "x_cols = [f\"x{x}\" for x in range(1, NUM_OF_REGRESSORS + 1)]\n",
    "response_col = \"y\"\n",
    "dt_col = \"date\"\n",
    "obs_matrix = np.concatenate([y.reshape(-1, 1), x], axis=1)\n",
    "# make a data frame for orbit inputs\n",
    "df = pd.DataFrame(obs_matrix, columns=[response_col] + x_cols)\n",
    "# make some dummy date stamp\n",
    "dt = pd.date_range(start='2016-01-04', periods=SERIES_LEN, freq=\"1W\")\n",
    "df['date'] = dt\n",
    "df.shape"
   ]
  },
  {
   "cell_type": "markdown",
   "metadata": {},
   "source": [
    "Let's take a peek on the coefficients."
   ]
  },
  {
   "cell_type": "code",
   "execution_count": 17,
   "metadata": {},
   "outputs": [
    {
     "data": {
      "text/plain": [
       "array([ 0.38372743, -0.21084054,  0.5404565 , -0.21864409,  0.85529298,\n",
       "       -0.83838077, -0.54550632,  0.80367924, -0.74643654, -0.26626975])"
      ]
     },
     "execution_count": 17,
     "metadata": {},
     "output_type": "execute_result"
    }
   ],
   "source": [
    "coefs"
   ]
  },
  {
   "cell_type": "markdown",
   "metadata": {},
   "source": [
    "Now, let's run a regression with the defaults where we have constant `regressor_sigma_prior` and `regression_penalty` set as `fixed-ridge`."
   ]
  },
  {
   "cell_type": "markdown",
   "metadata": {},
   "source": [
    "#### Fixed Ridge Penalty"
   ]
  },
  {
   "cell_type": "code",
   "execution_count": 18,
   "metadata": {},
   "outputs": [
    {
     "name": "stderr",
     "output_type": "stream",
     "text": [
      "WARNING:pystan:n_eff / iter below 0.001 indicates that the effective sample size has likely been overestimated\n",
      "WARNING:pystan:Rhat above 1.1 or below 0.9 indicates that the chains very likely have not mixed\n"
     ]
    },
    {
     "name": "stdout",
     "output_type": "stream",
     "text": [
      "CPU times: user 84.2 ms, sys: 78.3 ms, total: 163 ms\n",
      "Wall time: 3.1 s\n"
     ]
    }
   ],
   "source": [
    "%%time\n",
    "dlt_fridge = DLTFull(\n",
    "    response_col=response_col,\n",
    "    date_col=dt_col,\n",
    "    regressor_col=x_cols,\n",
    "    seed=SEED,\n",
    "    # this is default\n",
    "    regression_penalty='fixed_ridge',\n",
    "    # fixing the smoothing parameters to learn regression coefficients more effectively\n",
    "    level_sm_input=0.01,\n",
    "    slope_sm_input=0.01,\n",
    "    num_warmup=4000,\n",
    ")\n",
    "dlt_fridge.fit(df=df)"
   ]
  },
  {
   "cell_type": "code",
   "execution_count": 19,
   "metadata": {},
   "outputs": [
    {
     "data": {
      "image/png": "[encoded data removed]",
      "text/plain": [
       "<Figure size 1440x576 with 1 Axes>"
      ]
     },
     "metadata": {
      "needs_background": "light"
     },
     "output_type": "display_data"
    }
   ],
   "source": [
    "coef_fridge = np.quantile(dlt_fridge._posterior_samples['beta'], q=[0.05, 0.5, 0.95], axis=0 )\n",
    "lw=3\n",
    "idx = np.arange(NUM_OF_REGRESSORS)\n",
    "plt.figure(figsize=(20, 8))\n",
    "plt.title(\"Weights of the model\", fontsize=20)\n",
    "plt.plot(idx, coef_fridge[1], color=QualitativePalette.Line4.value[2], linewidth=lw,  drawstyle='steps', label='Fixed-Ridge', alpha=0.5, linestyle='--')\n",
    "plt.fill_between(idx, coef_fridge[0], coef_fridge[2], step='pre', alpha=0.3, color=QualitativePalette.Line4.value[2])\n",
    "plt.plot(coefs, color=\"black\", linewidth=lw,  drawstyle='steps', label=\"Ground truth\")\n",
    "plt.ylim(1, -1)\n",
    "plt.legend(prop={'size': 12})\n",
    "plt.grid()"
   ]
  },
  {
   "cell_type": "markdown",
   "metadata": {},
   "source": [
    "We can also set the `regression_penalty` to be `auto-ridge` in case we are sure what to set for the `regressor_sigma_prior`."
   ]
  },
  {
   "cell_type": "markdown",
   "metadata": {},
   "source": [
    "#### Auto-Ridge Penalty"
   ]
  },
  {
   "cell_type": "markdown",
   "metadata": {},
   "source": [
    "Instead of using fixed scale in the coefficients prior, a hyperprior can be assigned to them, i.e.\n",
    "\n",
    "$$ \\sigma_j \\sim \\text{Cauchy}^{+} (0, \\text{ridge_scale}) $$\n",
    "\n",
    "This can be done by setting `regression_penalty=\"auto_ridge\"`.  Notice there is a hyperprior `auto_ridge_scale` for tuning with a default of `0.5`. We can also supply stan config such as `adapt_delta` to reduce divergence see [here](https://mc-stan.org/rstanarm/reference/adapt_delta.html) for details."
   ]
  },
  {
   "cell_type": "code",
   "execution_count": 20,
   "metadata": {},
   "outputs": [
    {
     "name": "stderr",
     "output_type": "stream",
     "text": [
      "WARNING:pystan:n_eff / iter below 0.001 indicates that the effective sample size has likely been overestimated\n",
      "WARNING:pystan:Rhat above 1.1 or below 0.9 indicates that the chains very likely have not mixed\n",
      "WARNING:pystan:8 of 100 iterations ended with a divergence (8 %).\n",
      "WARNING:pystan:Try running with adapt_delta larger than 0.9 to remove the divergences.\n"
     ]
    },
    {
     "name": "stdout",
     "output_type": "stream",
     "text": [
      "CPU times: user 83.2 ms, sys: 75.2 ms, total: 158 ms\n",
      "Wall time: 6.98 s\n"
     ]
    }
   ],
   "source": [
    "%%time\n",
    "dlt_auto_ridge = DLTFull(\n",
    "    response_col=response_col,\n",
    "    date_col=dt_col,\n",
    "    regressor_col=x_cols,\n",
    "    seed=SEED,\n",
    "    # this is default\n",
    "    regression_penalty='auto_ridge',\n",
    "    # fixing the smoothing parameters to learn regression coefficients more effectively\n",
    "    level_sm_input=0.01,\n",
    "    slope_sm_input=0.01,\n",
    "    num_warmup=4000,\n",
    "    # reduce divergence \n",
    "    stan_mcmc_control={'adapt_delta':0.9},\n",
    ")\n",
    "dlt_auto_ridge.fit(df=df)"
   ]
  },
  {
   "cell_type": "code",
   "execution_count": 21,
   "metadata": {},
   "outputs": [
    {
     "data": {
      "image/png": "[encoded data removed]",
      "text/plain": [
       "<Figure size 1440x576 with 1 Axes>"
      ]
     },
     "metadata": {
      "needs_background": "light"
     },
     "output_type": "display_data"
    }
   ],
   "source": [
    "coef_auto_ridge = np.quantile(dlt_auto_ridge._posterior_samples['beta'], q=[0.05, 0.5, 0.95], axis=0 )\n",
    "lw=3\n",
    "idx = np.arange(NUM_OF_REGRESSORS)\n",
    "plt.figure(figsize=(20, 8))\n",
    "plt.title(\"Weights of the model\", fontsize=20)\n",
    "plt.plot(idx, coef_auto_ridge[1], color=QualitativePalette.Line4.value[2], linewidth=lw,  drawstyle='steps', label='Auto-Ridge', alpha=0.5, linestyle='--')\n",
    "plt.fill_between(idx, coef_auto_ridge[0], coef_auto_ridge[2], step='pre', alpha=0.3, color=QualitativePalette.Line4.value[2])\n",
    "plt.plot(coefs, color=\"black\", linewidth=lw,  drawstyle='steps', label=\"Ground truth\")\n",
    "plt.ylim(1, -1)\n",
    "plt.legend(prop={'size': 12})\n",
    "plt.grid()"
   ]
  },
  {
   "cell_type": "code",
   "execution_count": 22,
   "metadata": {},
   "outputs": [
    {
     "name": "stdout",
     "output_type": "stream",
     "text": [
      "Fixed Ridge MSE:0.092\n",
      "Auto Ridge MSE:0.070\n"
     ]
    }
   ],
   "source": [
    "print('Fixed Ridge MSE:{:.3f}\\nAuto Ridge MSE:{:.3f}'.format(\n",
    "    mse(coef_fridge[1], coefs), mse(coef_auto_ridge[1], coefs)\n",
    "))"
   ]
  },
  {
   "cell_type": "markdown",
   "metadata": {},
   "source": [
    "### Sparse Regrssion\n",
    "\n",
    "Now, let's move to a challenging problem with a much higher $P$ to $N$ ratio with a sparsity specified by the parameter `relevance=0.5` under the simulation process."
   ]
  },
  {
   "cell_type": "code",
   "execution_count": 23,
   "metadata": {
    "ExecuteTime": {
     "end_time": "2020-09-01T22:20:58.691963Z",
     "start_time": "2020-09-01T22:20:58.685443Z"
    }
   },
   "outputs": [
    {
     "name": "stdout",
     "output_type": "stream",
     "text": [
      "(50,) (50, 50)\n"
     ]
    }
   ],
   "source": [
    "NUM_OF_REGRESSORS = 50\n",
    "SERIES_LEN = 50\n",
    "SEED = 20210101\n",
    "COEFS = np.random.default_rng(SEED).uniform(0.3, 0.5, NUM_OF_REGRESSORS)\n",
    "SIGNS = np.random.default_rng(SEED).choice([1, -1], NUM_OF_REGRESSORS)\n",
    "# to mimic a either zero or relative observable coefficients\n",
    "COEFS = COEFS * SIGNS\n",
    "trend = make_trend(SERIES_LEN, rw_loc=0.01, rw_scale=0.1)\n",
    "x, regression, coefs = make_regression(series_len=SERIES_LEN, coefs=COEFS, relevance=0.5)\n",
    "print(regression.shape, x.shape)"
   ]
  },
  {
   "cell_type": "code",
   "execution_count": 24,
   "metadata": {},
   "outputs": [
    {
     "data": {
      "text/plain": [
       "array([ 0.        ,  0.        , -0.45404565,  0.37813559,  0.        ,\n",
       "        0.        ,  0.        ,  0.48036792, -0.32535635, -0.37337302,\n",
       "        0.        ,  0.        , -0.37000755,  0.44887456,  0.47082836,\n",
       "        0.        ,  0.32678039,  0.        ,  0.38932392,  0.40216056,\n",
       "       -0.34751455, -0.49824576,  0.        , -0.35036047,  0.        ,\n",
       "        0.        ,  0.        ,  0.        ,  0.3004372 ,  0.        ,\n",
       "        0.        ,  0.        , -0.49094139,  0.        ,  0.        ,\n",
       "        0.        , -0.49667658,  0.        ,  0.32336776,  0.        ,\n",
       "        0.        ,  0.36255583, -0.40961555,  0.        ,  0.44455655,\n",
       "        0.4449055 ,  0.        ,  0.30064161, -0.46083203,  0.45238241])"
      ]
     },
     "execution_count": 24,
     "metadata": {},
     "output_type": "execute_result"
    }
   ],
   "source": [
    "# generated sparsed coefficients\n",
    "coefs"
   ]
  },
  {
   "cell_type": "code",
   "execution_count": 25,
   "metadata": {},
   "outputs": [],
   "source": [
    "# combine trend and the regression\n",
    "y = trend + regression"
   ]
  },
  {
   "cell_type": "code",
   "execution_count": 26,
   "metadata": {},
   "outputs": [
    {
     "data": {
      "text/plain": [
       "(50, 52)"
      ]
     },
     "execution_count": 26,
     "metadata": {},
     "output_type": "execute_result"
    }
   ],
   "source": [
    "x_cols = [f\"x{x}\" for x in range(1, NUM_OF_REGRESSORS + 1)]\n",
    "response_col = \"y\"\n",
    "dt_col = \"date\"\n",
    "obs_matrix = np.concatenate([y.reshape(-1, 1), x], axis=1)\n",
    "# make a data frame for orbit inputs\n",
    "df = pd.DataFrame(obs_matrix, columns=[response_col] + x_cols)\n",
    "# make some dummy date stamp\n",
    "dt = pd.date_range(start='2016-01-04', periods=SERIES_LEN, freq=\"1W\")\n",
    "df['date'] = dt\n",
    "df.shape"
   ]
  },
  {
   "cell_type": "markdown",
   "metadata": {},
   "source": [
    "### Fixed Ridge Penalty"
   ]
  },
  {
   "cell_type": "code",
   "execution_count": 27,
   "metadata": {},
   "outputs": [
    {
     "name": "stderr",
     "output_type": "stream",
     "text": [
      "WARNING:pystan:n_eff / iter below 0.001 indicates that the effective sample size has likely been overestimated\n",
      "WARNING:pystan:Rhat above 1.1 or below 0.9 indicates that the chains very likely have not mixed\n"
     ]
    }
   ],
   "source": [
    "dlt_fridge = DLTFull(\n",
    "    response_col=response_col,\n",
    "    date_col=dt_col,\n",
    "    regressor_col=x_cols,\n",
    "    seed=SEED,\n",
    "    level_sm_input=0.01,\n",
    "    slope_sm_input=0.01,\n",
    "    num_warmup=8000,\n",
    ")\n",
    "dlt_fridge.fit(df=df)"
   ]
  },
  {
   "cell_type": "code",
   "execution_count": 28,
   "metadata": {},
   "outputs": [
    {
     "data": {
      "image/png": "[encoded data removed]",
      "text/plain": [
       "<Figure size 1440x576 with 1 Axes>"
      ]
     },
     "metadata": {
      "needs_background": "light"
     },
     "output_type": "display_data"
    }
   ],
   "source": [
    "coef_fridge = np.quantile(dlt_fridge._posterior_samples['beta'], q=[0.05, 0.5, 0.95], axis=0 )\n",
    "lw=3\n",
    "idx = np.arange(NUM_OF_REGRESSORS)\n",
    "plt.figure(figsize=(20, 8))\n",
    "plt.title(\"Weights of the model\", fontsize=20)\n",
    "plt.plot(coef_fridge[1], color=QualitativePalette.Line4.value[2], linewidth=lw,  drawstyle='steps', label=\"Ridge\", alpha=0.5, linestyle='--')\n",
    "plt.fill_between(idx, coef_fridge[0], coef_fridge[2], step='pre', alpha=0.3, color=QualitativePalette.Line4.value[2])\n",
    "plt.plot(coefs, color=\"black\", linewidth=lw,  drawstyle='steps', label=\"Ground truth\")\n",
    "plt.legend(prop={'size': 12})\n",
    "plt.grid()"
   ]
  },
  {
   "cell_type": "markdown",
   "metadata": {},
   "source": [
    "#### LASSO  Penalty\n",
    "\n",
    "In high $P$ to $N$ problems, *LASS0* penalty usually shines compared to *Ridge* penalty."
   ]
  },
  {
   "cell_type": "code",
   "execution_count": 29,
   "metadata": {},
   "outputs": [
    {
     "name": "stderr",
     "output_type": "stream",
     "text": [
      "WARNING:pystan:n_eff / iter below 0.001 indicates that the effective sample size has likely been overestimated\n",
      "WARNING:pystan:Rhat above 1.1 or below 0.9 indicates that the chains very likely have not mixed\n"
     ]
    }
   ],
   "source": [
    "dlt_lasso = DLTFull(\n",
    "    response_col=response_col,\n",
    "    date_col=dt_col,\n",
    "    regressor_col=x_cols,\n",
    "    seed=SEED,\n",
    "    regression_penalty='lasso',\n",
    "    level_sm_input=0.01,\n",
    "    slope_sm_input=0.01,\n",
    "    num_warmup=8000,\n",
    ")\n",
    "dlt_lasso.fit(df=df)"
   ]
  },
  {
   "cell_type": "code",
   "execution_count": 30,
   "metadata": {},
   "outputs": [
    {
     "data": {
      "image/png": "[encoded data removed]",
      "text/plain": [
       "<Figure size 1440x576 with 1 Axes>"
      ]
     },
     "metadata": {
      "needs_background": "light"
     },
     "output_type": "display_data"
    }
   ],
   "source": [
    "coef_lasso = np.quantile(dlt_lasso._posterior_samples['beta'], q=[0.05, 0.5, 0.95], axis=0 )\n",
    "lw=3\n",
    "idx = np.arange(NUM_OF_REGRESSORS)\n",
    "plt.figure(figsize=(20, 8))\n",
    "plt.title(\"Weights of the model\", fontsize=20)\n",
    "plt.plot(coef_lasso[1], color=QualitativePalette.Line4.value[2], linewidth=lw,  drawstyle='steps', label=\"Lasso\", alpha=0.5, linestyle='--')\n",
    "plt.fill_between(idx, coef_lasso[0], coef_lasso[2], step='pre', alpha=0.3, color=QualitativePalette.Line4.value[2])\n",
    "plt.plot(coefs, color=\"black\", linewidth=lw,  drawstyle='steps', label=\"Ground truth\")\n",
    "plt.legend(prop={'size': 12})\n",
    "plt.grid()"
   ]
  },
  {
   "cell_type": "code",
   "execution_count": 31,
   "metadata": {},
   "outputs": [
    {
     "name": "stdout",
     "output_type": "stream",
     "text": [
      "Fixed Ridge MSE:0.168\n",
      "LASSO MSE:0.094\n"
     ]
    }
   ],
   "source": [
    "print('Fixed Ridge MSE:{:.3f}\\nLASSO MSE:{:.3f}'.format(\n",
    "    mse(coef_fridge[1], coefs), mse(coef_lasso[1], coefs)\n",
    "))"
   ]
  }
 ],
 "metadata": {
  "kernelspec": {
   "display_name": "Python 3",
   "language": "python",
   "name": "python3"
  },
  "language_info": {
   "codemirror_mode": {
    "name": "ipython",
    "version": 3
   },
   "file_extension": ".py",
   "mimetype": "text/x-python",
   "name": "python",
   "nbconvert_exporter": "python",
   "pygments_lexer": "ipython3",
   "version": "3.7.7"
  },
  "toc": {
   "base_numbering": 1,
   "nav_menu": {},
   "number_sections": true,
   "sideBar": true,
   "skip_h1_title": true,
   "title_cell": "Table of Contents",
   "title_sidebar": "Contents",
   "toc_cell": false,
   "toc_position": {},
   "toc_section_display": true,
   "toc_window_display": true
  }
 },
 "nbformat": 4,
 "nbformat_minor": 4
}
